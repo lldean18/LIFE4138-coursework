{
 "cells": [
  {
   "cell_type": "markdown",
   "id": "a423f338",
   "metadata": {},
   "source": [
    "# R Coursework part 1"
   ]
  },
  {
   "cell_type": "markdown",
   "id": "388d227d",
   "metadata": {},
   "source": [
    "Answer all of the questions below in the cells provided. \n",
    "\n",
    "Make sure you:\n",
    "\n",
    "- comment your code\n",
    "- run your cells to check your answers\n",
    "- save your notebook with your answers before submitting it"
   ]
  },
  {
   "cell_type": "markdown",
   "id": "d5ea0b2d",
   "metadata": {},
   "source": [
    "### Question 1"
   ]
  },
  {
   "cell_type": "markdown",
   "id": "586cffbe",
   "metadata": {},
   "source": [
    "Create a data frame with 5 rows and 2 columns. The first column should be a vector of names of your choice, the second should be a series of numeric values."
   ]
  },
  {
   "cell_type": "code",
   "execution_count": null,
   "id": "5487056c",
   "metadata": {},
   "outputs": [],
   "source": []
  },
  {
   "cell_type": "markdown",
   "id": "6716fe85",
   "metadata": {},
   "source": [
    "### Question 2"
   ]
  },
  {
   "cell_type": "markdown",
   "id": "ce5dbd64",
   "metadata": {},
   "source": [
    "The code in the cell below provides examples of each of the main data structures in R. Run the code in the cell below."
   ]
  },
  {
   "cell_type": "code",
   "execution_count": null,
   "id": "8e1efe89",
   "metadata": {},
   "outputs": [],
   "source": [
    "my_vector <- seq(from = 1, to = 1000, by = 1)\n",
    "my_matrix <- matrix(1:100, nrow = 10, ncol = 10)\n",
    "my_dataframe <- data.frame(name = rep(c(\"a\", \"b\"), each = 10), value = 21:40)\n",
    "my_list <- list(my_vector, my_matrix, my_dataframe)"
   ]
  },
  {
   "cell_type": "markdown",
   "id": "9f07e55a",
   "metadata": {},
   "source": [
    "Show how to access:\n",
    "\n",
    "- The 4th value of the vector\n",
    "- Column 4 and row 7 of the matrix\n",
    "- The 10th value of name in the data.frame\n",
    "- The 5th element of the 1st element of the list"
   ]
  },
  {
   "cell_type": "code",
   "execution_count": null,
   "id": "2099b0d8",
   "metadata": {},
   "outputs": [],
   "source": []
  },
  {
   "cell_type": "markdown",
   "id": "4a3ecbca",
   "metadata": {},
   "source": [
    "### Question 3"
   ]
  },
  {
   "cell_type": "markdown",
   "id": "75b4bd4e",
   "metadata": {},
   "source": [
    "Show three different ways to print the numbers 200 to 300 in R. One should be a `for` loop, one should be an `sapply` function and the third can be a method of your choosing."
   ]
  },
  {
   "cell_type": "code",
   "execution_count": null,
   "id": "57e54254",
   "metadata": {},
   "outputs": [],
   "source": []
  },
  {
   "cell_type": "markdown",
   "id": "0b024a77",
   "metadata": {},
   "source": [
    "### Question 4"
   ]
  },
  {
   "cell_type": "markdown",
   "id": "c9e746e0",
   "metadata": {},
   "source": [
    "The following code creates a vector of animal names: (run this code)"
   ]
  },
  {
   "cell_type": "code",
   "execution_count": null,
   "id": "3692cea6",
   "metadata": {},
   "outputs": [],
   "source": [
    "animals <- c(\"tiger\", \"lion\", \"badger\", \"fox\", \"rabbit\", \"fish\", \"dog\", \"octopus\")"
   ]
  },
  {
   "cell_type": "markdown",
   "id": "ad936b20",
   "metadata": {},
   "source": [
    "Show how you would replace the fish and octopus in this dataset with two other animals without creating a new vector."
   ]
  },
  {
   "cell_type": "code",
   "execution_count": null,
   "id": "b8520212",
   "metadata": {},
   "outputs": [],
   "source": []
  },
  {
   "cell_type": "markdown",
   "id": "0d163ede",
   "metadata": {},
   "source": [
    "### Question 5"
   ]
  },
  {
   "cell_type": "markdown",
   "id": "97f282f0",
   "metadata": {},
   "source": [
    "Using the `cars` dataset, make a `baseR` (i.e. do not use `ggplot2`) scatterplot of speed vs distance Ensure the x and y labels do not include cars$ and give your plot an appropriate title.\n",
    "\n",
    "HINT: you will have to begin by loading the cars dataset"
   ]
  },
  {
   "cell_type": "code",
   "execution_count": null,
   "id": "231ec242",
   "metadata": {},
   "outputs": [],
   "source": []
  },
  {
   "cell_type": "markdown",
   "id": "3fc81e91",
   "metadata": {},
   "source": [
    "### Question 6"
   ]
  },
  {
   "cell_type": "markdown",
   "id": "03f8a6f9",
   "metadata": {},
   "source": [
    "Using the `starwars` dataset, identify the individuals with:\n",
    "\n",
    "- the tallest height\n",
    "- the lowest mass\n",
    "\n",
    "HINT: the starwars dataset is part of the dplyr package"
   ]
  },
  {
   "cell_type": "code",
   "execution_count": null,
   "id": "8d561cee",
   "metadata": {},
   "outputs": [],
   "source": []
  },
  {
   "cell_type": "markdown",
   "id": "47d945f9",
   "metadata": {},
   "source": [
    "### Question 7"
   ]
  },
  {
   "cell_type": "markdown",
   "id": "35d24dc9",
   "metadata": {},
   "source": [
    "The `dplyr` dataset `storms` is part of the US National Oceanic and Atmospheric Administration database of Atlantic hurricanes. It contains multiple repeated measurements from hurricanes. For a given storm, there are measurements from every 6 hours across the life time of the storm.\n",
    "\n",
    "Use a tidyverse approach with `dplyr` to answer the following:\n",
    "\n",
    "- how many different storms are contained in the database?\n",
    "- which year had the most storms?\n",
    "- which storm, in which year had the highest pressure?\n",
    "\n",
    "HINT:\n",
    "unique() will help ensure you remove duplicated data from a vector e.g.\n",
    "x <- c(1, 1, 2, 2, 3, 3, 4, 4)\n",
    "unique(x)"
   ]
  },
  {
   "cell_type": "code",
   "execution_count": null,
   "id": "10ee852e",
   "metadata": {},
   "outputs": [],
   "source": []
  },
  {
   "cell_type": "markdown",
   "id": "51c85311",
   "metadata": {},
   "source": [
    "### Question 8"
   ]
  },
  {
   "cell_type": "markdown",
   "id": "5d99cf41",
   "metadata": {},
   "source": [
    "The `ggplot2` dataset `diamonds` contains the price and information from the sale of 54,000 different diamonds. You can use ?diamonds to find out more about the dataset if you want.\n",
    "\n",
    "Using `ggplot2`:\n",
    "\n",
    "- plot the relationship between the carat (i.e. the weight of the diamond) and the price.\n",
    "- plot a histogram of prices of all the diamonds\n",
    "- plot a boxplot of the difference in price between the different cuts"
   ]
  },
  {
   "cell_type": "code",
   "execution_count": null,
   "id": "9dfb40a8",
   "metadata": {},
   "outputs": [],
   "source": []
  },
  {
   "cell_type": "markdown",
   "id": "b7fe3a23",
   "metadata": {},
   "source": [
    "### Question 9"
   ]
  },
  {
   "cell_type": "markdown",
   "id": "b0ae9c90",
   "metadata": {},
   "source": [
    "Identify the maximum and minimum price that the diamonds in the diamonds data set sold for. Add a new column to the diamonds data set that contains the string “Low price” if the value in the price column is less than 5000 dollars and “High price” if it is above 5000 dollars."
   ]
  },
  {
   "cell_type": "code",
   "execution_count": null,
   "id": "a785a130",
   "metadata": {},
   "outputs": [],
   "source": []
  },
  {
   "cell_type": "markdown",
   "id": "adbb5a96",
   "metadata": {},
   "source": [
    "### Question 10"
   ]
  },
  {
   "cell_type": "markdown",
   "id": "0da08192",
   "metadata": {},
   "source": [
    "Sticking with the `diamonds` dataset for this question. A carat is a special unit of weight for gemstones where a single carat is 200 mg or 0.2 g. Write a function to convert the `diamonds$carat` vector into grams or milligrams. How heavy is the heaviest diamond?"
   ]
  },
  {
   "cell_type": "code",
   "execution_count": null,
   "id": "8e93156b",
   "metadata": {},
   "outputs": [],
   "source": []
  }
 ],
 "metadata": {
  "kernelspec": {
   "display_name": "R",
   "language": "R",
   "name": "ir"
  },
  "language_info": {
   "codemirror_mode": "r",
   "file_extension": ".r",
   "mimetype": "text/x-r-source",
   "name": "R",
   "pygments_lexer": "r",
   "version": "4.2.3"
  }
 },
 "nbformat": 4,
 "nbformat_minor": 5
}
