{
 "cells": [
  {
   "cell_type": "markdown",
   "id": "65903689",
   "metadata": {},
   "source": [
    "# Python Coursework Conversion"
   ]
  },
  {
   "cell_type": "markdown",
   "id": "e86a2082",
   "metadata": {},
   "source": [
    "This notebook contains the Python equivalent of the R tasks provided."
   ]
  },
  {
   "cell_type": "markdown",
   "id": "fffa755b",
   "metadata": {},
   "source": [
    "### Question 1\n",
    "Create a PANDAS DataFrame with 5 rows and 2 columns. One column should be names, the other should be an Age.\n",
    "\n",
    "Remember to import pandas to be able to use it:\n",
    "\n",
    "```python\n",
    "import pandas as pd\n",
    "```\n",
    "\n",
    "Print your dataframe in the notebook."
   ]
  },
  {
   "cell_type": "code",
   "execution_count": null,
   "id": "f164fd91",
   "metadata": {},
   "outputs": [],
   "source": [
    "\n",
    "\n"
   ]
  },
  {
   "cell_type": "markdown",
   "id": "bb31f387",
   "metadata": {},
   "source": [
    "### Question 2\n",
    "Provide examples of the following data structures in python and print or access them as shown.\n",
    "\n",
    "A list of ints. - print the fourth value.\n",
    "\n",
    "A tuple - print the tuple\n",
    "\n",
    "A dictionary representing the four bases of DNA - print the total number of bases represented by your dictionary.\n",
    "\n",
    "A list of lists of floats. - print the third value in the sixth list.\n",
    "\n",
    "An array of floats -  print the first four items of the array\n",
    "\n",
    "A pandas dataframe - print the 9th row.\n"
   ]
  },
  {
   "cell_type": "code",
   "execution_count": null,
   "id": "8aa4661c",
   "metadata": {},
   "outputs": [],
   "source": [
    "\n"
   ]
  },
  {
   "cell_type": "markdown",
   "id": "52e30ead",
   "metadata": {},
   "source": [
    "### Question 3\n",
    "\n",
    "Use three different methods to print the numbers 200 to 300."
   ]
  },
  {
   "cell_type": "code",
   "execution_count": null,
   "id": "1c038f6a",
   "metadata": {},
   "outputs": [],
   "source": [
    "\n",
    "\n"
   ]
  },
  {
   "cell_type": "markdown",
   "id": "60f369ff",
   "metadata": {},
   "source": [
    "### Question 4\n",
    "Add or replace the following elements in the list animals (you will need to run the cell below):\n",
    "\n",
    "1. Replace fish wish another animal of your choice.\n",
    "2. Add another animal of your choice to the end of the list.\n",
    "3. Replace octopus with another animal of your choice.\n",
    "\n",
    "Print the edited list. \n"
   ]
  },
  {
   "cell_type": "code",
   "execution_count": null,
   "id": "0b3abbe4",
   "metadata": {},
   "outputs": [],
   "source": [
    "# Replace elements in this list\n",
    "animals = [\"tiger\", \"lion\", \"badger\", \"fox\", \"rabbit\", \"fish\", \"dog\", \"octopus\"]"
   ]
  },
  {
   "cell_type": "code",
   "execution_count": null,
   "id": "b9a6deef-ab81-4eb0-933b-ea5387f18f0e",
   "metadata": {},
   "outputs": [],
   "source": []
  },
  {
   "cell_type": "markdown",
   "id": "a909ec97",
   "metadata": {},
   "source": [
    "### Question 5\n",
    "Using pandas, generate a scatterplot of mpg vs hp using the cars dataset. The data set is read in and assigned to a dataframe by running the cell below. Ensure you have imported all the libraries you need. "
   ]
  },
  {
   "cell_type": "code",
   "execution_count": null,
   "id": "6d615bca-a1f8-4010-ad5d-e8d9acdfe9f1",
   "metadata": {},
   "outputs": [],
   "source": [
    "mtcars = \"https://raw.githubusercontent.com/Apress/mastering-ml-w-python-in-six-steps/refs/heads/master/Chapter_2_Code/Data/mtcars.csv\"\n",
    "cars = pd.read_csv(mtcars)"
   ]
  },
  {
   "cell_type": "code",
   "execution_count": null,
   "id": "245f98df",
   "metadata": {},
   "outputs": [],
   "source": [
    "\n",
    "\n"
   ]
  },
  {
   "cell_type": "markdown",
   "id": "cf249a2f",
   "metadata": {},
   "source": [
    "### Question 6\n",
    "Using the startwars dataset imported below, identify the individuals with tallest height and lowest mass."
   ]
  },
  {
   "cell_type": "code",
   "execution_count": null,
   "id": "e3327930",
   "metadata": {},
   "outputs": [],
   "source": [
    "starwars_dataset=\"https://www.fabricionarcizo.com/post/starwars/updated_starwars.csv\"\n",
    "starwars = pd.read_csv(starwars_dataset)"
   ]
  },
  {
   "cell_type": "code",
   "execution_count": null,
   "id": "3aa2838f-ad05-48a0-b14d-2dc0b18be1fe",
   "metadata": {},
   "outputs": [],
   "source": []
  },
  {
   "cell_type": "code",
   "execution_count": null,
   "id": "00f667fe-38f2-4478-bf9f-a47301f108c7",
   "metadata": {},
   "outputs": [],
   "source": []
  },
  {
   "cell_type": "markdown",
   "id": "95fa55ae-21d3-4156-ace8-e65b96b7226e",
   "metadata": {},
   "source": [
    "### Question 7\n",
    "Analyze the life expectancy dataset (which can be loaded by running the cell below).\n",
    "\n",
    "Calculate the number of unique countries in the dataset.\n",
    "\n",
    "Calculate the country and year with the highest life expectancy.\n",
    "\n",
    "Calculate the year with the highest total expenditure.\n",
    "\n",
    "Provide your code using pandas.\n"
   ]
  },
  {
   "cell_type": "code",
   "execution_count": null,
   "id": "c2961279-cbcc-4247-bfa3-63fc06988186",
   "metadata": {},
   "outputs": [],
   "source": [
    "import seaborn as sns\n",
    "life_expectancy = sns.load_dataset('healthexp')"
   ]
  },
  {
   "cell_type": "code",
   "execution_count": null,
   "id": "93b6c9a4",
   "metadata": {},
   "outputs": [],
   "source": [
    "\n"
   ]
  },
  {
   "cell_type": "markdown",
   "id": "bc1d87d4",
   "metadata": {},
   "source": [
    "### Question 8\n",
    "Using the diamonds dataset and the plotting code of your choice, plot the following from the diamonds dataset.\n",
    "\n",
    "1. Carat vs Price in a scatter plot.\n",
    "2. A histogram of prices.\n",
    "3. A boxplot of cut vs price.\n",
    "\n",
    "The code can be loaded from seaborn in the cell below."
   ]
  },
  {
   "cell_type": "code",
   "execution_count": null,
   "id": "0cf57f04-3fa2-470f-906a-d15180943d5f",
   "metadata": {},
   "outputs": [],
   "source": [
    "diamonds = sns.load_dataset('diamonds')"
   ]
  },
  {
   "cell_type": "code",
   "execution_count": null,
   "id": "0e7638b1",
   "metadata": {},
   "outputs": [],
   "source": [
    "\n",
    "\n",
    "\n"
   ]
  },
  {
   "cell_type": "markdown",
   "id": "ff76cc7d",
   "metadata": {},
   "source": [
    "### Question 9\n",
    "\n",
    "Using the same dataset, identify the max and min price in diamonds dataset."
   ]
  },
  {
   "cell_type": "code",
   "execution_count": null,
   "id": "99b1d89e",
   "metadata": {},
   "outputs": [],
   "source": []
  },
  {
   "cell_type": "markdown",
   "id": "f36f35b2",
   "metadata": {},
   "source": [
    "### Question 10\n",
    "Write a function that will convert carat to grams and find the heaviest diamond.\n",
    "\n",
    "1 carat = 0.2 grams"
   ]
  },
  {
   "cell_type": "code",
   "execution_count": null,
   "id": "68c11dfb",
   "metadata": {},
   "outputs": [],
   "source": [
    "\n",
    "\n"
   ]
  }
 ],
 "metadata": {
  "kernelspec": {
   "display_name": "Python 3 (ipykernel)",
   "language": "python",
   "name": "python3"
  },
  "language_info": {
   "codemirror_mode": {
    "name": "ipython",
    "version": 3
   },
   "file_extension": ".py",
   "mimetype": "text/x-python",
   "name": "python",
   "nbconvert_exporter": "python",
   "pygments_lexer": "ipython3",
   "version": "3.9.18"
  }
 },
 "nbformat": 4,
 "nbformat_minor": 5
}
